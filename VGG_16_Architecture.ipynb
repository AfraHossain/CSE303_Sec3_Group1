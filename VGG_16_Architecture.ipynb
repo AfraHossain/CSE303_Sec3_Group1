{
  "nbformat": 4,
  "nbformat_minor": 0,
  "metadata": {
    "colab": {
      "name": "VGG 16 Architecture.ipynb",
      "provenance": [],
      "authorship_tag": "ABX9TyNcEyVVbL7yv/tVurEdDIBd",
      "include_colab_link": true
    },
    "kernelspec": {
      "name": "python3",
      "display_name": "Python 3"
    },
    "language_info": {
      "name": "python"
    },
    "accelerator": "GPU"
  },
  "cells": [
    {
      "cell_type": "markdown",
      "metadata": {
        "id": "view-in-github",
        "colab_type": "text"
      },
      "source": [
        "<a href=\"https://colab.research.google.com/github/AfraHossain/CSE303_Sec3_Group1/blob/main/VGG_16_Architecture.ipynb\" target=\"_parent\"><img src=\"https://colab.research.google.com/assets/colab-badge.svg\" alt=\"Open In Colab\"/></a>"
      ]
    },
    {
      "cell_type": "code",
      "metadata": {
        "id": "VthuO0ID6oqm"
      },
      "source": [
        "import torch\n",
        "import random\n",
        "import torchvision\n",
        "import torchvision.transforms as transforms\n",
        "from torchvision import datasets\n",
        "import torch.optim as optim\n",
        "import torch.nn\n",
        "import numpy as np\n",
        "import matplotlib.pyplot as plt\n",
        "import pandas as pd\n",
        "import seaborn as sns\n",
        "from torchvision import models \n",
        "from sklearn.metrics import accuracy_score\n",
        "from sklearn.metrics import confusion_matrix, ConfusionMatrixDisplay\n",
        "from sklearn.metrics import plot_confusion_matrix\n"
      ],
      "execution_count": null,
      "outputs": []
    },
    {
      "cell_type": "code",
      "metadata": {
        "colab": {
          "base_uri": "https://localhost:8080/"
        },
        "id": "ni7Sr-UiSaHe",
        "outputId": "56d2a797-53dc-49ea-9d90-91148397cfd2"
      },
      "source": [
        "device=torch.device(\"cuda\" if torch.cuda.is_available() else \"CPU\")\n",
        "print(device)"
      ],
      "execution_count": null,
      "outputs": [
        {
          "output_type": "stream",
          "name": "stdout",
          "text": [
            "cuda\n"
          ]
        }
      ]
    },
    {
      "cell_type": "code",
      "metadata": {
        "id": "SiTCcbY_IOxv"
      },
      "source": [
        "num_epochs = 5\n",
        "batch_size = 10\n",
        "learning_rate = 0.001"
      ],
      "execution_count": null,
      "outputs": []
    },
    {
      "cell_type": "code",
      "metadata": {
        "colab": {
          "base_uri": "https://localhost:8080/"
        },
        "id": "0jIeklwi6-dA",
        "outputId": "4e277958-cf90-41d4-ae8b-c4e91dca1b53"
      },
      "source": [
        "transform = transforms.Compose([transforms.Resize((224,224)),\n",
        "                                transforms.ToTensor(),     \n",
        "                                transforms.Normalize((0.5, 0.5, 0.5), (0.5, 0.5, 0.5))\n",
        "                                ])\n",
        "\n",
        "train_set = datasets.CIFAR10(root='./data', train = True, download = True, transform = transform)\n",
        "test_set = datasets.CIFAR10(root='./data', train = False, download = True, transform = transform)\n"
      ],
      "execution_count": null,
      "outputs": [
        {
          "output_type": "stream",
          "name": "stdout",
          "text": [
            "Files already downloaded and verified\n",
            "Files already downloaded and verified\n"
          ]
        }
      ]
    },
    {
      "cell_type": "code",
      "metadata": {
        "colab": {
          "base_uri": "https://localhost:8080/"
        },
        "id": "97VroogFUbq5",
        "outputId": "6595695f-2a8a-432c-e1e0-510237db14bc"
      },
      "source": [
        "print('Training set samples:', len(train_set))\n",
        "print('Test set samples:', len(test_set))"
      ],
      "execution_count": null,
      "outputs": [
        {
          "output_type": "stream",
          "name": "stdout",
          "text": [
            "Training set samples: 50000\n",
            "Test set samples: 10000\n"
          ]
        }
      ]
    },
    {
      "cell_type": "code",
      "metadata": {
        "colab": {
          "base_uri": "https://localhost:8080/"
        },
        "id": "F6-58qmZUHKx",
        "outputId": "c62314cf-1511-4cb6-ad24-5db1713bb787"
      },
      "source": [
        "train_loader = torch.utils.data.DataLoader(train_set, batch_size = 10, shuffle=True)\n",
        "test_loader = torch.utils.data.DataLoader(test_set, batch_size = 10, shuffle=False)\n",
        "print(len(train_loader))\n",
        "print(len(test_loader))"
      ],
      "execution_count": null,
      "outputs": [
        {
          "output_type": "stream",
          "name": "stdout",
          "text": [
            "5000\n",
            "1000\n"
          ]
        }
      ]
    },
    {
      "cell_type": "code",
      "metadata": {
        "id": "PfSBLffM7nIW"
      },
      "source": [
        "classes = ('plane', 'car', 'bird', 'cat', 'deer', 'dog', 'frog', 'horse', 'ship', 'truck')"
      ],
      "execution_count": null,
      "outputs": []
    },
    {
      "cell_type": "code",
      "metadata": {
        "id": "hP6guD7wFvUY"
      },
      "source": [
        "def imshow(img):\n",
        "    img = img / 2 + 0.5  # unnormalize\n",
        "    npimg = img.numpy()\n",
        "    plt.imshow(np.transpose(npimg, (1, 2, 0)))\n",
        "    plt.show()"
      ],
      "execution_count": null,
      "outputs": []
    },
    {
      "cell_type": "code",
      "metadata": {
        "colab": {
          "base_uri": "https://localhost:8080/"
        },
        "id": "UOhlx8aC-5dL",
        "outputId": "247cdf96-7732-473f-a3a7-f609ee54df99"
      },
      "source": [
        "dataiter = iter(train_loader)\n",
        "images, labels = dataiter.next()\n",
        "#print(images[1])\n",
        "print(images.shape) \n",
        "print(labels.shape)"
      ],
      "execution_count": null,
      "outputs": [
        {
          "output_type": "stream",
          "name": "stdout",
          "text": [
            "torch.Size([10, 3, 224, 224])\n",
            "torch.Size([10])\n"
          ]
        }
      ]
    },
    {
      "cell_type": "code",
      "metadata": {
        "colab": {
          "base_uri": "https://localhost:8080/",
          "height": 136
        },
        "id": "VugA4SCDF5WC",
        "outputId": "c572236f-b8b7-4b4f-86ca-821de5bd60ac"
      },
      "source": [
        "# show images\n",
        "imshow(torchvision.utils.make_grid(images))\n"
      ],
      "execution_count": null,
      "outputs": [
        {
          "output_type": "display_data",
          "data": {
            "image/png": "[encoded data removed]",
            "text/plain": [
              "<Figure size 432x288 with 1 Axes>"
            ]
          },
          "metadata": {
            "needs_background": "light"
          }
        }
      ]
    },
    {
      "cell_type": "code",
      "metadata": {
        "colab": {
          "base_uri": "https://localhost:8080/"
        },
        "id": "g5yfz5ATayjO",
        "outputId": "2c2ee907-1a8c-41a7-cb4b-f8377a2512ff"
      },
      "source": [
        "vgg16 = models.vgg16(pretrained = True)\n",
        "print(vgg16)"
      ],
      "execution_count": null,
      "outputs": [
        {
          "output_type": "stream",
          "name": "stdout",
          "text": [
            "VGG(\n",
            "  (features): Sequential(\n",
            "    (0): Conv2d(3, 64, kernel_size=(3, 3), stride=(1, 1), padding=(1, 1))\n",
            "    (1): ReLU(inplace=True)\n",
            "    (2): Conv2d(64, 64, kernel_size=(3, 3), stride=(1, 1), padding=(1, 1))\n",
            "    (3): ReLU(inplace=True)\n",
            "    (4): MaxPool2d(kernel_size=2, stride=2, padding=0, dilation=1, ceil_mode=False)\n",
            "    (5): Conv2d(64, 128, kernel_size=(3, 3), stride=(1, 1), padding=(1, 1))\n",
            "    (6): ReLU(inplace=True)\n",
            "    (7): Conv2d(128, 128, kernel_size=(3, 3), stride=(1, 1), padding=(1, 1))\n",
            "    (8): ReLU(inplace=True)\n",
            "    (9): MaxPool2d(kernel_size=2, stride=2, padding=0, dilation=1, ceil_mode=False)\n",
            "    (10): Conv2d(128, 256, kernel_size=(3, 3), stride=(1, 1), padding=(1, 1))\n",
            "    (11): ReLU(inplace=True)\n",
            "    (12): Conv2d(256, 256, kernel_size=(3, 3), stride=(1, 1), padding=(1, 1))\n",
            "    (13): ReLU(inplace=True)\n",
            "    (14): Conv2d(256, 256, kernel_size=(3, 3), stride=(1, 1), padding=(1, 1))\n",
            "    (15): ReLU(inplace=True)\n",
            "    (16): MaxPool2d(kernel_size=2, stride=2, padding=0, dilation=1, ceil_mode=False)\n",
            "    (17): Conv2d(256, 512, kernel_size=(3, 3), stride=(1, 1), padding=(1, 1))\n",
            "    (18): ReLU(inplace=True)\n",
            "    (19): Conv2d(512, 512, kernel_size=(3, 3), stride=(1, 1), padding=(1, 1))\n",
            "    (20): ReLU(inplace=True)\n",
            "    (21): Conv2d(512, 512, kernel_size=(3, 3), stride=(1, 1), padding=(1, 1))\n",
            "    (22): ReLU(inplace=True)\n",
            "    (23): MaxPool2d(kernel_size=2, stride=2, padding=0, dilation=1, ceil_mode=False)\n",
            "    (24): Conv2d(512, 512, kernel_size=(3, 3), stride=(1, 1), padding=(1, 1))\n",
            "    (25): ReLU(inplace=True)\n",
            "    (26): Conv2d(512, 512, kernel_size=(3, 3), stride=(1, 1), padding=(1, 1))\n",
            "    (27): ReLU(inplace=True)\n",
            "    (28): Conv2d(512, 512, kernel_size=(3, 3), stride=(1, 1), padding=(1, 1))\n",
            "    (29): ReLU(inplace=True)\n",
            "    (30): MaxPool2d(kernel_size=2, stride=2, padding=0, dilation=1, ceil_mode=False)\n",
            "  )\n",
            "  (avgpool): AdaptiveAvgPool2d(output_size=(7, 7))\n",
            "  (classifier): Sequential(\n",
            "    (0): Linear(in_features=25088, out_features=4096, bias=True)\n",
            "    (1): ReLU(inplace=True)\n",
            "    (2): Dropout(p=0.5, inplace=False)\n",
            "    (3): Linear(in_features=4096, out_features=4096, bias=True)\n",
            "    (4): ReLU(inplace=True)\n",
            "    (5): Dropout(p=0.5, inplace=False)\n",
            "    (6): Linear(in_features=4096, out_features=1000, bias=True)\n",
            "  )\n",
            ")\n"
          ]
        }
      ]
    },
    {
      "cell_type": "code",
      "metadata": {
        "id": "CxIYghjDnyhf"
      },
      "source": [
        "class ConvNet(torch.nn.Module):\n",
        "\n",
        "    def __init__(self,):\n",
        "        super(ConvNet, self).__init__()\n",
        "        \n",
        "        self.block_1 = torch.nn.Sequential(\n",
        "                torch.nn.Conv2d(in_channels=3,\n",
        "                                out_channels=64,\n",
        "                                kernel_size=(3, 3),\n",
        "                                stride=(1, 1),\n",
        "                                padding=1),\n",
        "                torch.nn.ReLU(),\n",
        "                torch.nn.Conv2d(in_channels=64,\n",
        "                                out_channels=64,\n",
        "                                kernel_size=(3, 3),\n",
        "                                stride=(1, 1),\n",
        "                                padding=1),\n",
        "                torch.nn.ReLU(),\n",
        "                torch.nn.MaxPool2d(kernel_size=(2, 2),\n",
        "                                   stride=(2, 2))\n",
        "        )\n",
        "        \n",
        "        self.block_2 = torch.nn.Sequential(\n",
        "                torch.nn.Conv2d(in_channels=64,\n",
        "                                out_channels=128,\n",
        "                                kernel_size=(3, 3),\n",
        "                                stride=(1, 1),\n",
        "                                padding=1),\n",
        "                torch.nn.ReLU(),\n",
        "                torch.nn.Conv2d(in_channels=128,\n",
        "                                out_channels=128,\n",
        "                                kernel_size=(3, 3),\n",
        "                                stride=(1, 1),\n",
        "                                padding=1),\n",
        "                torch.nn.ReLU(),\n",
        "                torch.nn.MaxPool2d(kernel_size=(2, 2),\n",
        "                                   stride=(2, 2))\n",
        "        )\n",
        "        \n",
        "        self.block_3 = torch.nn.Sequential(        \n",
        "                torch.nn.Conv2d(in_channels=128,\n",
        "                                out_channels=256,\n",
        "                                kernel_size=(3, 3),\n",
        "                                stride=(1, 1),\n",
        "                                padding=1),\n",
        "                torch.nn.ReLU(),\n",
        "                torch.nn.Conv2d(in_channels=256,\n",
        "                                out_channels=256,\n",
        "                                kernel_size=(3, 3),\n",
        "                                stride=(1, 1),\n",
        "                                padding=1),\n",
        "                torch.nn.ReLU(),        \n",
        "                torch.nn.Conv2d(in_channels=256,\n",
        "                                out_channels=256,\n",
        "                                kernel_size=(3, 3),\n",
        "                                stride=(1, 1),\n",
        "                                padding=1),\n",
        "                torch.nn.ReLU(),\n",
        "                torch.nn.MaxPool2d(kernel_size=(2, 2),\n",
        "                                   stride=(2, 2))\n",
        "        )\n",
        "        \n",
        "          \n",
        "        self.block_4 = torch.nn.Sequential(   \n",
        "                torch.nn.Conv2d(in_channels=256,\n",
        "                                out_channels=512,\n",
        "                                kernel_size=(3, 3),\n",
        "                                stride=(1, 1),\n",
        "                                padding=1),\n",
        "                torch.nn.ReLU(),        \n",
        "                torch.nn.Conv2d(in_channels=512,\n",
        "                                out_channels=512,\n",
        "                                kernel_size=(3, 3),\n",
        "                                stride=(1, 1),\n",
        "                                padding=1),\n",
        "                torch.nn.ReLU(),        \n",
        "                torch.nn.Conv2d(in_channels=512,\n",
        "                                out_channels=512,\n",
        "                                kernel_size=(3, 3),\n",
        "                                stride=(1, 1),\n",
        "                                padding=1),\n",
        "                torch.nn.ReLU(),            \n",
        "                torch.nn.MaxPool2d(kernel_size=(2, 2),\n",
        "                                   stride=(2, 2))\n",
        "        )\n",
        "        \n",
        "        self.block_5 = torch.nn.Sequential(\n",
        "                torch.nn.Conv2d(in_channels=512,\n",
        "                                out_channels=512,\n",
        "                                kernel_size=(3, 3),\n",
        "                                stride=(1, 1),\n",
        "                                padding=1),\n",
        "                torch.nn.ReLU(),            \n",
        "                torch.nn.Conv2d(in_channels=512,\n",
        "                                out_channels=512,\n",
        "                                kernel_size=(3, 3),\n",
        "                                stride=(1, 1),\n",
        "                                padding=1),\n",
        "                torch.nn.ReLU(),            \n",
        "                torch.nn.Conv2d(in_channels=512,\n",
        "                                out_channels=512,\n",
        "                                kernel_size=(3, 3),\n",
        "                                stride=(1, 1),\n",
        "                                padding=1),\n",
        "                torch.nn.ReLU(),    \n",
        "                torch.nn.MaxPool2d(kernel_size=(2, 2),\n",
        "                                   stride=(2, 2))             \n",
        "        )\n",
        "        \n",
        "       \n",
        "        self.classifier = torch.nn.Sequential(\n",
        "            torch.nn.Linear(25088, 512),\n",
        "            torch.nn.ReLU(True),\n",
        "            torch.nn.Dropout(p=0.5),\n",
        "            torch.nn.Linear(512, 128),\n",
        "            torch.nn.ReLU(True),\n",
        "            torch.nn.Dropout(p=0.5),\n",
        "            torch.nn.Linear(128, 10),\n",
        "        )\n",
        "            \n",
        "    \n",
        "        \n",
        "        \n",
        "    def forward(self, x):\n",
        "\n",
        "        x = self.block_1(x)\n",
        "        x = self.block_2(x)\n",
        "        x = self.block_3(x)\n",
        "        x = self.block_4(x)\n",
        "        x = self.block_5(x)\n",
        "        # x = self.avgpool(x)\n",
        "        x = x.view(x.size(0), -1) # flatten\n",
        "        \n",
        "        logits = self.classifier(x)\n",
        "        #probas = F.softmax(logits, dim=1)\n",
        "\n",
        "        return logits"
      ],
      "execution_count": null,
      "outputs": []
    },
    {
      "cell_type": "code",
      "metadata": {
        "id": "zJZfl21Qq83E"
      },
      "source": [
        "model = ConvNet().to(device)\n",
        "# print(model)"
      ],
      "execution_count": null,
      "outputs": []
    },
    {
      "cell_type": "code",
      "metadata": {
        "id": "KO5xYmsJRWLN"
      },
      "source": [
        "optimizer = optim.SGD(model.classifier.parameters(), lr=0.01)\n",
        "criterion= torch.nn.CrossEntropyLoss()"
      ],
      "execution_count": null,
      "outputs": []
    },
    {
      "cell_type": "code",
      "metadata": {
        "colab": {
          "base_uri": "https://localhost:8080/"
        },
        "id": "nY_ReOMCHqWW",
        "outputId": "e214ed42-a5bb-44b1-d5e3-cfaf5eaa7c9d"
      },
      "source": [
        "n_total_steps = len(train_loader)\n",
        "for epoch in range(num_epochs):\n",
        "    for i, (imgs, labels) in enumerate(train_loader):\n",
        "        \n",
        "        imgs = imgs.to(device)\n",
        "        labels = labels.to(device)\n",
        "        optimizer.zero_grad()\n",
        "\n",
        "        # Forward pass\n",
        "        outputs = model(imgs)\n",
        "        loss = criterion(outputs, labels)\n",
        "\n",
        "        # Backward and optimize\n",
        "        # optimizer.zero_grad()\n",
        "        loss.backward()\n",
        "        optimizer.step()\n",
        "\n",
        "        if (i+1) % 200 == 0:\n",
        "            print (f'Epoch [{epoch+1}/{num_epochs}], Step [{i+1}/{n_total_steps}], Loss: {loss.item():.4f}')\n",
        "\n",
        "print('Finished Training')\n"
      ],
      "execution_count": null,
      "outputs": [
        {
          "output_type": "stream",
          "name": "stdout",
          "text": [
            "Epoch [1/5], Step [200/5000], Loss: 2.2938\n",
            "Epoch [1/5], Step [400/5000], Loss: 2.3076\n",
            "Epoch [1/5], Step [600/5000], Loss: 2.2843\n",
            "Epoch [1/5], Step [800/5000], Loss: 2.3079\n",
            "Epoch [1/5], Step [1000/5000], Loss: 2.2947\n",
            "Epoch [1/5], Step [1200/5000], Loss: 2.3170\n",
            "Epoch [1/5], Step [1400/5000], Loss: 2.3014\n",
            "Epoch [1/5], Step [1600/5000], Loss: 2.2989\n",
            "Epoch [1/5], Step [1800/5000], Loss: 2.3056\n",
            "Epoch [1/5], Step [2000/5000], Loss: 2.3053\n",
            "Epoch [1/5], Step [2200/5000], Loss: 2.3073\n",
            "Epoch [1/5], Step [2400/5000], Loss: 2.2999\n",
            "Epoch [1/5], Step [2600/5000], Loss: 2.3086\n",
            "Epoch [1/5], Step [2800/5000], Loss: 2.3086\n",
            "Epoch [1/5], Step [3000/5000], Loss: 2.3139\n",
            "Epoch [1/5], Step [3200/5000], Loss: 2.2865\n",
            "Epoch [1/5], Step [3400/5000], Loss: 2.2966\n",
            "Epoch [1/5], Step [3600/5000], Loss: 2.2990\n",
            "Epoch [1/5], Step [3800/5000], Loss: 2.3071\n",
            "Epoch [1/5], Step [4000/5000], Loss: 2.2959\n",
            "Epoch [1/5], Step [4200/5000], Loss: 2.3056\n",
            "Epoch [1/5], Step [4400/5000], Loss: 2.3057\n",
            "Epoch [1/5], Step [4600/5000], Loss: 2.3011\n",
            "Epoch [1/5], Step [4800/5000], Loss: 2.3061\n",
            "Epoch [1/5], Step [5000/5000], Loss: 2.3084\n",
            "Epoch [2/5], Step [200/5000], Loss: 2.3050\n",
            "Epoch [2/5], Step [400/5000], Loss: 2.2985\n",
            "Epoch [2/5], Step [600/5000], Loss: 2.3030\n",
            "Epoch [2/5], Step [800/5000], Loss: 2.3056\n",
            "Epoch [2/5], Step [1000/5000], Loss: 2.3024\n",
            "Epoch [2/5], Step [1200/5000], Loss: 2.3086\n",
            "Epoch [2/5], Step [1400/5000], Loss: 2.3049\n",
            "Epoch [2/5], Step [1600/5000], Loss: 2.3081\n",
            "Epoch [2/5], Step [1800/5000], Loss: 2.3037\n",
            "Epoch [2/5], Step [2000/5000], Loss: 2.3038\n",
            "Epoch [2/5], Step [2200/5000], Loss: 2.3013\n",
            "Epoch [2/5], Step [2400/5000], Loss: 2.3029\n",
            "Epoch [2/5], Step [2600/5000], Loss: 2.2878\n",
            "Epoch [2/5], Step [2800/5000], Loss: 2.3109\n",
            "Epoch [2/5], Step [3000/5000], Loss: 2.3012\n",
            "Epoch [2/5], Step [3200/5000], Loss: 2.3111\n",
            "Epoch [2/5], Step [3400/5000], Loss: 2.3008\n",
            "Epoch [2/5], Step [3600/5000], Loss: 2.2988\n",
            "Epoch [2/5], Step [3800/5000], Loss: 2.2970\n",
            "Epoch [2/5], Step [4000/5000], Loss: 2.3069\n",
            "Epoch [2/5], Step [4200/5000], Loss: 2.3014\n",
            "Epoch [2/5], Step [4400/5000], Loss: 2.2992\n",
            "Epoch [2/5], Step [4600/5000], Loss: 2.3090\n",
            "Epoch [2/5], Step [4800/5000], Loss: 2.3091\n",
            "Epoch [2/5], Step [5000/5000], Loss: 2.3077\n",
            "Epoch [3/5], Step [200/5000], Loss: 2.3077\n",
            "Epoch [3/5], Step [400/5000], Loss: 2.3018\n",
            "Epoch [3/5], Step [600/5000], Loss: 2.3026\n",
            "Epoch [3/5], Step [800/5000], Loss: 2.2976\n",
            "Epoch [3/5], Step [1000/5000], Loss: 2.2966\n",
            "Epoch [3/5], Step [1200/5000], Loss: 2.3075\n",
            "Epoch [3/5], Step [1400/5000], Loss: 2.2979\n",
            "Epoch [3/5], Step [1600/5000], Loss: 2.3038\n",
            "Epoch [3/5], Step [1800/5000], Loss: 2.2969\n",
            "Epoch [3/5], Step [2000/5000], Loss: 2.3014\n",
            "Epoch [3/5], Step [2200/5000], Loss: 2.2956\n",
            "Epoch [3/5], Step [2400/5000], Loss: 2.3058\n",
            "Epoch [3/5], Step [2600/5000], Loss: 2.2986\n",
            "Epoch [3/5], Step [2800/5000], Loss: 2.3029\n",
            "Epoch [3/5], Step [3000/5000], Loss: 2.3106\n",
            "Epoch [3/5], Step [3200/5000], Loss: 2.2981\n",
            "Epoch [3/5], Step [3400/5000], Loss: 2.3020\n",
            "Epoch [3/5], Step [3600/5000], Loss: 2.3052\n",
            "Epoch [3/5], Step [3800/5000], Loss: 2.2978\n",
            "Epoch [3/5], Step [4000/5000], Loss: 2.3105\n",
            "Epoch [3/5], Step [4200/5000], Loss: 2.3027\n",
            "Epoch [3/5], Step [4400/5000], Loss: 2.3031\n",
            "Epoch [3/5], Step [4600/5000], Loss: 2.2975\n",
            "Epoch [3/5], Step [4800/5000], Loss: 2.3003\n",
            "Epoch [3/5], Step [5000/5000], Loss: 2.3033\n",
            "Epoch [4/5], Step [200/5000], Loss: 2.3066\n",
            "Epoch [4/5], Step [400/5000], Loss: 2.3033\n",
            "Epoch [4/5], Step [600/5000], Loss: 2.3028\n",
            "Epoch [4/5], Step [800/5000], Loss: 2.3108\n",
            "Epoch [4/5], Step [1000/5000], Loss: 2.3106\n",
            "Epoch [4/5], Step [1200/5000], Loss: 2.2989\n",
            "Epoch [4/5], Step [1400/5000], Loss: 2.3082\n",
            "Epoch [4/5], Step [1600/5000], Loss: 2.3024\n",
            "Epoch [4/5], Step [1800/5000], Loss: 2.3096\n",
            "Epoch [4/5], Step [2000/5000], Loss: 2.2989\n",
            "Epoch [4/5], Step [2200/5000], Loss: 2.2984\n",
            "Epoch [4/5], Step [2400/5000], Loss: 2.3031\n",
            "Epoch [4/5], Step [2600/5000], Loss: 2.3036\n",
            "Epoch [4/5], Step [2800/5000], Loss: 2.3133\n",
            "Epoch [4/5], Step [3000/5000], Loss: 2.3099\n",
            "Epoch [4/5], Step [3200/5000], Loss: 2.3005\n",
            "Epoch [4/5], Step [3400/5000], Loss: 2.3024\n",
            "Epoch [4/5], Step [3600/5000], Loss: 2.2958\n",
            "Epoch [4/5], Step [3800/5000], Loss: 2.3062\n",
            "Epoch [4/5], Step [4000/5000], Loss: 2.3080\n",
            "Epoch [4/5], Step [4200/5000], Loss: 2.3021\n",
            "Epoch [4/5], Step [4400/5000], Loss: 2.2995\n",
            "Epoch [4/5], Step [4600/5000], Loss: 2.3013\n",
            "Epoch [4/5], Step [4800/5000], Loss: 2.3091\n",
            "Epoch [4/5], Step [5000/5000], Loss: 2.2990\n",
            "Epoch [5/5], Step [200/5000], Loss: 2.2974\n",
            "Epoch [5/5], Step [400/5000], Loss: 2.3171\n",
            "Epoch [5/5], Step [600/5000], Loss: 2.3089\n",
            "Epoch [5/5], Step [800/5000], Loss: 2.3029\n",
            "Epoch [5/5], Step [1000/5000], Loss: 2.3143\n",
            "Epoch [5/5], Step [1200/5000], Loss: 2.3010\n",
            "Epoch [5/5], Step [1400/5000], Loss: 2.2982\n",
            "Epoch [5/5], Step [1600/5000], Loss: 2.3039\n",
            "Epoch [5/5], Step [1800/5000], Loss: 2.3078\n",
            "Epoch [5/5], Step [2000/5000], Loss: 2.3033\n",
            "Epoch [5/5], Step [2200/5000], Loss: 2.3087\n",
            "Epoch [5/5], Step [2400/5000], Loss: 2.3006\n",
            "Epoch [5/5], Step [2600/5000], Loss: 2.3073\n",
            "Epoch [5/5], Step [2800/5000], Loss: 2.3044\n",
            "Epoch [5/5], Step [3000/5000], Loss: 2.2976\n",
            "Epoch [5/5], Step [3200/5000], Loss: 2.3038\n",
            "Epoch [5/5], Step [3400/5000], Loss: 2.3076\n",
            "Epoch [5/5], Step [3600/5000], Loss: 2.2991\n",
            "Epoch [5/5], Step [3800/5000], Loss: 2.3103\n",
            "Epoch [5/5], Step [4000/5000], Loss: 2.2936\n",
            "Epoch [5/5], Step [4200/5000], Loss: 2.3101\n",
            "Epoch [5/5], Step [4400/5000], Loss: 2.3056\n",
            "Epoch [5/5], Step [4600/5000], Loss: 2.3012\n",
            "Epoch [5/5], Step [4800/5000], Loss: 2.3020\n",
            "Epoch [5/5], Step [5000/5000], Loss: 2.3144\n",
            "Finished Training\n"
          ]
        }
      ]
    },
    {
      "cell_type": "code",
      "metadata": {
        "colab": {
          "base_uri": "https://localhost:8080/"
        },
        "id": "9JtjNCKbtZPO",
        "outputId": "aef0b6af-2e53-47f6-8041-09a036cbfcf9"
      },
      "source": [
        "with torch.no_grad():\n",
        "    n_correct = 0\n",
        "    n_samples = 0\n",
        "    n_class_correct = [0 for i in range(10)]\n",
        "    n_class_samples = [0 for i in range(10)]\n",
        "    for images, labels in test_loader:\n",
        "        images = images.to(device)\n",
        "        labels = labels.to(device)\n",
        "        outputs = model(images)\n",
        "        # max returns (value ,index)\n",
        "        _, predicted = torch.max(outputs, 1)\n",
        "        n_samples += labels.size(0)\n",
        "        n_correct += (predicted == labels).sum().item()\n",
        "        \n",
        "        for i in range(batch_size):\n",
        "            label = labels[i]\n",
        "            pred = predicted[i]\n",
        "            if (label == pred):\n",
        "                n_class_correct[label] += 1\n",
        "            n_class_samples[label] += 1\n",
        "\n",
        "    acc = 1000.0 * n_correct / n_samples\n",
        "    print(f'Accuracy of the network: {acc} %')\n",
        "\n",
        "    for i in range(10):\n",
        "        acc = 1000.0 * n_class_correct[i] / n_class_samples[i]\n",
        "        print(f'Accuracy of {classes[i]}: {acc} %')            "
      ],
      "execution_count": null,
      "outputs": [
        {
          "output_type": "stream",
          "name": "stdout",
          "text": [
            "Accuracy of the network: 100.3 %\n",
            "Accuracy of plane: 0.0 %\n",
            "Accuracy of car: 0.0 %\n",
            "Accuracy of bird: 0.0 %\n",
            "Accuracy of cat: 0.0 %\n",
            "Accuracy of deer: 0.0 %\n",
            "Accuracy of dog: 997.0 %\n",
            "Accuracy of frog: 0.0 %\n",
            "Accuracy of horse: 0.0 %\n",
            "Accuracy of ship: 6.0 %\n",
            "Accuracy of truck: 0.0 %\n"
          ]
        }
      ]
    }
  ]
}